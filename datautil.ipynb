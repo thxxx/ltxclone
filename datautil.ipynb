{
 "cells": [
  {
   "cell_type": "code",
   "execution_count": 4,
   "id": "4eafbf40-4693-452e-a2f0-9c114efda029",
   "metadata": {},
   "outputs": [
    {
     "name": "stderr",
     "output_type": "stream",
     "text": [
      "ffmpeg version 4.4.2-0ubuntu0.22.04.1 Copyright (c) 2000-2021 the FFmpeg developers\n",
      "  built with gcc 11 (Ubuntu 11.2.0-19ubuntu1)\n",
      "  configuration: --prefix=/usr --extra-version=0ubuntu0.22.04.1 --toolchain=hardened --libdir=/usr/lib/x86_64-linux-gnu --incdir=/usr/include/x86_64-linux-gnu --arch=amd64 --enable-gpl --disable-stripping --enable-gnutls --enable-ladspa --enable-libaom --enable-libass --enable-libbluray --enable-libbs2b --enable-libcaca --enable-libcdio --enable-libcodec2 --enable-libdav1d --enable-libflite --enable-libfontconfig --enable-libfreetype --enable-libfribidi --enable-libgme --enable-libgsm --enable-libjack --enable-libmp3lame --enable-libmysofa --enable-libopenjpeg --enable-libopenmpt --enable-libopus --enable-libpulse --enable-librabbitmq --enable-librubberband --enable-libshine --enable-libsnappy --enable-libsoxr --enable-libspeex --enable-libsrt --enable-libssh --enable-libtheora --enable-libtwolame --enable-libvidstab --enable-libvorbis --enable-libvpx --enable-libwebp --enable-libx265 --enable-libxml2 --enable-libxvid --enable-libzimg --enable-libzmq --enable-libzvbi --enable-lv2 --enable-omx --enable-openal --enable-opencl --enable-opengl --enable-sdl2 --enable-pocketsphinx --enable-librsvg --enable-libmfx --enable-libdc1394 --enable-libdrm --enable-libiec61883 --enable-chromaprint --enable-frei0r --enable-libx264 --enable-shared\n",
      "  libavutil      56. 70.100 / 56. 70.100\n",
      "  libavcodec     58.134.100 / 58.134.100\n",
      "  libavformat    58. 76.100 / 58. 76.100\n",
      "  libavdevice    58. 13.100 / 58. 13.100\n",
      "  libavfilter     7.110.100 /  7.110.100\n",
      "  libswscale      5.  9.100 /  5.  9.100\n",
      "  libswresample   3.  9.100 /  3.  9.100\n",
      "  libpostproc    55.  9.100 / 55.  9.100\n",
      "Input #0, mov,mp4,m4a,3gp,3g2,mj2, from 'ex.mp4':\n",
      "  Metadata:\n",
      "    major_brand     : isom\n",
      "    minor_version   : 512\n",
      "    compatible_brands: isomiso2avc1mp41\n",
      "    encoder         : Lavf59.10.100\n",
      "  Duration: 00:00:32.45, start: 0.000000, bitrate: 1126 kb/s\n",
      "  Stream #0:0(und): Video: h264 (High) (avc1 / 0x31637661), yuv420p(tv, bt709), 854x480 [SAR 1:1 DAR 427:240], 1123 kb/s, 23.98 fps, 23.98 tbr, 24k tbn, 47.95 tbc (default)\n",
      "    Metadata:\n",
      "      handler_name    : VideoHandler\n",
      "      vendor_id       : [0][0][0][0]\n",
      "Stream mapping:\n",
      "  Stream #0:0 -> #0:0 (h264 (native) -> h264 (libx264))\n",
      "Press [q] to stop, [?] for help\n",
      "[swscaler @ 0x61fc52a5f700] Warning: data is not aligned! This can lead to a speed loss\n",
      "[libx264 @ 0x61fc52564140] using SAR=1/1\n",
      "[libx264 @ 0x61fc52564140] using cpu capabilities: MMX2 SSE2Fast SSSE3 SSE4.2 AVX FMA3 BMI2 AVX2\n",
      "[libx264 @ 0x61fc52564140] profile High, level 1.0, 4:2:0, 8-bit\n",
      "[libx264 @ 0x61fc52564140] 264 - core 163 r3060 5db6aa6 - H.264/MPEG-4 AVC codec - Copyleft 2003-2021 - http://www.videolan.org/x264.html - options: cabac=1 ref=3 deblock=1:0:0 analyse=0x3:0x113 me=hex subme=7 psy=1 psy_rd=1.00:0.00 mixed_ref=1 me_range=16 chroma_me=1 trellis=1 8x8dct=1 cqm=0 deadzone=21,11 fast_pskip=1 chroma_qp_offset=-2 threads=4 lookahead_threads=1 sliced_threads=0 nr=0 decimate=1 interlaced=0 bluray_compat=0 constrained_intra=0 bframes=3 b_pyramid=2 b_adapt=1 b_bias=0 direct=1 weightb=1 open_gop=0 weightp=2 keyint=250 keyint_min=16 scenecut=40 intra_refresh=0 rc_lookahead=40 rc=crf mbtree=1 crf=23.0 qcomp=0.60 qpmin=0 qpmax=69 qpstep=4 ip_ratio=1.40 aq=1:1.00\n",
      "Output #0, mp4, to 'sixteen128.mp4':\n",
      "  Metadata:\n",
      "    major_brand     : isom\n",
      "    minor_version   : 512\n",
      "    compatible_brands: isomiso2avc1mp41\n",
      "    encoder         : Lavf58.76.100\n",
      "  Stream #0:0(und): Video: h264 (avc1 / 0x31637661), yuv420p(tv, bt709, progressive), 128x128 [SAR 1:1 DAR 1:1], q=2-31, 16 fps, 16384 tbn (default)\n",
      "    Metadata:\n",
      "      handler_name    : VideoHandler\n",
      "      vendor_id       : [0][0][0][0]\n",
      "      encoder         : Lavc58.134.100 libx264\n",
      "    Side data:\n",
      "      cpb: bitrate max/min/avg: 0/0/0 buffer size: 0 vbv_delay: N/A\n",
      "frame=   80 fps=0.0 q=-1.0 Lsize=      21kB time=00:00:04.81 bitrate=  35.5kbits/s speed=52.2x    \n",
      "video:19kB audio:0kB subtitle:0kB other streams:0kB global headers:0kB muxing overhead: 9.509155%\n",
      "[libx264 @ 0x61fc52564140] frame I:2     Avg QP:19.16  size:  2487\n",
      "[libx264 @ 0x61fc52564140] frame P:24    Avg QP:23.70  size:   446\n",
      "[libx264 @ 0x61fc52564140] frame B:54    Avg QP:29.65  size:    58\n",
      "[libx264 @ 0x61fc52564140] consecutive B-frames:  6.2% 10.0%  3.8% 80.0%\n",
      "[libx264 @ 0x61fc52564140] mb I  I16..4:  5.5% 18.8% 75.8%\n",
      "[libx264 @ 0x61fc52564140] mb P  I16..4:  0.1%  0.5%  1.8%  P16..4: 12.4% 17.1% 11.5%  0.0%  0.0%    skip:56.6%\n",
      "[libx264 @ 0x61fc52564140] mb B  I16..4:  0.0%  0.0%  0.1%  B16..8:  8.8%  3.3%  0.9%  direct: 0.3%  skip:86.6%  L0:49.8% L1:44.4% BI: 5.9%\n",
      "[libx264 @ 0x61fc52564140] 8x8 transform intra:19.0% inter:27.4%\n",
      "[libx264 @ 0x61fc52564140] coded y,uvDC,uvAC intra: 88.2% 91.7% 72.0% inter: 6.4% 5.2% 2.9%\n",
      "[libx264 @ 0x61fc52564140] i16 v,h,dc,p: 67%  0% 11% 22%\n",
      "[libx264 @ 0x61fc52564140] i8 v,h,dc,ddl,ddr,vr,hd,vl,hu: 27% 12% 19%  8%  6%  6% 12%  3%  6%\n",
      "[libx264 @ 0x61fc52564140] i4 v,h,dc,ddl,ddr,vr,hd,vl,hu: 27% 19% 17%  5%  7%  7%  7%  5%  7%\n",
      "[libx264 @ 0x61fc52564140] i8c dc,h,v,p: 53% 14% 28%  5%\n",
      "[libx264 @ 0x61fc52564140] Weighted P-Frames: Y:0.0% UV:0.0%\n",
      "[libx264 @ 0x61fc52564140] ref P L0: 63.3% 16.0% 13.5%  7.3%\n",
      "[libx264 @ 0x61fc52564140] ref B L0: 91.4%  6.5%  2.2%\n",
      "[libx264 @ 0x61fc52564140] ref B L1: 97.2%  2.8%\n",
      "[libx264 @ 0x61fc52564140] kb/s:30.09\n"
     ]
    }
   ],
   "source": [
    "import subprocess\n",
    "\n",
    "def process_video(input_path: str, output_path: str):\n",
    "    cmd = [\n",
    "        \"ffmpeg\",\n",
    "        \"-y\",  # 기존 파일 덮어쓰기\n",
    "        \"-i\", input_path,  # 입력 파일\n",
    "        \"-t\", \"5\",  # 앞 5초만 추출\n",
    "        \"-vf\", \"crop='min(in_w, in_h)':'min(in_w, in_h)',scale=128:128,fps=16\",  # 중앙 crop 후 resize + fps\n",
    "        \"-an\",  # 오디오 제거 (필요 시 제거)\n",
    "        output_path\n",
    "    ]\n",
    "    \n",
    "    subprocess.run(cmd, check=True)\n",
    "\n",
    "process_video('ex.mp4', 'sixteen128.mp4')"
   ]
  },
  {
   "cell_type": "code",
   "execution_count": null,
   "id": "00bb96c3-0db5-4e5e-b126-d545ac6ba186",
   "metadata": {},
   "outputs": [],
   "source": [
    "from datasets import load_dataset\n",
    "\n",
    "ds = load_dataset(\"Loie/VGGSound\")"
   ]
  }
 ],
 "metadata": {
  "kernelspec": {
   "display_name": "Python 3 (ipykernel)",
   "language": "python",
   "name": "python3"
  },
  "language_info": {
   "codemirror_mode": {
    "name": "ipython",
    "version": 3
   },
   "file_extension": ".py",
   "mimetype": "text/x-python",
   "name": "python",
   "nbconvert_exporter": "python",
   "pygments_lexer": "ipython3",
   "version": "3.11.11"
  }
 },
 "nbformat": 4,
 "nbformat_minor": 5
}
